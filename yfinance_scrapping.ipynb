{
 "cells": [
  {
   "cell_type": "code",
   "execution_count": 1,
   "id": "ab7388bf",
   "metadata": {},
   "outputs": [],
   "source": [
    "import pandas as pd\n",
    "import yfinance as yf\n"
   ]
  },
  {
   "cell_type": "code",
   "execution_count": 2,
   "id": "fafebf57",
   "metadata": {},
   "outputs": [],
   "source": [
    "\n",
    "# ticker define\n",
    "ticker = 'NVDA'"
   ]
  },
  {
   "cell_type": "code",
   "execution_count": 3,
   "id": "5ba2d3c7",
   "metadata": {},
   "outputs": [],
   "source": [
    "# define the time period\n",
    "start_date = '2015-01-01'\n",
    "end_date = '2024-11-21'"
   ]
  },
  {
   "cell_type": "code",
   "execution_count": 4,
   "id": "62422f91",
   "metadata": {},
   "outputs": [
    {
     "name": "stdout",
     "output_type": "stream",
     "text": [
      "YF.download() has changed argument auto_adjust default to True\n"
     ]
    },
    {
     "name": "stderr",
     "output_type": "stream",
     "text": [
      "[*********************100%***********************]  1 of 1 completed\n"
     ]
    },
    {
     "data": {
      "application/vnd.microsoft.datawrangler.viewer.v0+json": {
       "columns": [
        {
         "name": "Date",
         "rawType": "datetime64[ns]",
         "type": "datetime"
        },
        {
         "name": "('Close', 'NVDA')",
         "rawType": "float64",
         "type": "float"
        },
        {
         "name": "('High', 'NVDA')",
         "rawType": "float64",
         "type": "float"
        },
        {
         "name": "('Low', 'NVDA')",
         "rawType": "float64",
         "type": "float"
        },
        {
         "name": "('Open', 'NVDA')",
         "rawType": "float64",
         "type": "float"
        },
        {
         "name": "('Volume', 'NVDA')",
         "rawType": "int64",
         "type": "integer"
        }
       ],
       "conversionMethod": "pd.DataFrame",
       "ref": "645b1714-4601-433f-a64c-64978a841603",
       "rows": [
        [
         "2015-01-02 00:00:00",
         "0.4830990433692932",
         "0.48669891236504514",
         "0.4754193609903401",
         "0.4830990433692932",
         "113680000"
        ],
        [
         "2015-01-05 00:00:00",
         "0.4749394655227661",
         "0.4845390700634918",
         "0.4727795723817234",
         "0.4830991222301347",
         "197952000"
        ],
        [
         "2015-01-06 00:00:00",
         "0.4605400264263153",
         "0.47613933476826237",
         "0.46006005342989925",
         "0.47565936177184626",
         "197764000"
        ],
        [
         "2015-01-07 00:00:00",
         "0.4593401849269867",
         "0.4679798152789232",
         "0.45790023699866567",
         "0.46389997235167857",
         "321808000"
        ],
        [
         "2015-01-08 00:00:00",
         "0.4766193926334381",
         "0.47949928834271704",
         "0.4643799216959828",
         "0.4646199225414205",
         "283780000"
        ]
       ],
       "shape": {
        "columns": 5,
        "rows": 5
       }
      },
      "text/html": [
       "<div>\n",
       "<style scoped>\n",
       "    .dataframe tbody tr th:only-of-type {\n",
       "        vertical-align: middle;\n",
       "    }\n",
       "\n",
       "    .dataframe tbody tr th {\n",
       "        vertical-align: top;\n",
       "    }\n",
       "\n",
       "    .dataframe thead tr th {\n",
       "        text-align: left;\n",
       "    }\n",
       "\n",
       "    .dataframe thead tr:last-of-type th {\n",
       "        text-align: right;\n",
       "    }\n",
       "</style>\n",
       "<table border=\"1\" class=\"dataframe\">\n",
       "  <thead>\n",
       "    <tr>\n",
       "      <th>Price</th>\n",
       "      <th>Close</th>\n",
       "      <th>High</th>\n",
       "      <th>Low</th>\n",
       "      <th>Open</th>\n",
       "      <th>Volume</th>\n",
       "    </tr>\n",
       "    <tr>\n",
       "      <th>Ticker</th>\n",
       "      <th>NVDA</th>\n",
       "      <th>NVDA</th>\n",
       "      <th>NVDA</th>\n",
       "      <th>NVDA</th>\n",
       "      <th>NVDA</th>\n",
       "    </tr>\n",
       "    <tr>\n",
       "      <th>Date</th>\n",
       "      <th></th>\n",
       "      <th></th>\n",
       "      <th></th>\n",
       "      <th></th>\n",
       "      <th></th>\n",
       "    </tr>\n",
       "  </thead>\n",
       "  <tbody>\n",
       "    <tr>\n",
       "      <th>2015-01-02</th>\n",
       "      <td>0.483099</td>\n",
       "      <td>0.486699</td>\n",
       "      <td>0.475419</td>\n",
       "      <td>0.483099</td>\n",
       "      <td>113680000</td>\n",
       "    </tr>\n",
       "    <tr>\n",
       "      <th>2015-01-05</th>\n",
       "      <td>0.474939</td>\n",
       "      <td>0.484539</td>\n",
       "      <td>0.472780</td>\n",
       "      <td>0.483099</td>\n",
       "      <td>197952000</td>\n",
       "    </tr>\n",
       "    <tr>\n",
       "      <th>2015-01-06</th>\n",
       "      <td>0.460540</td>\n",
       "      <td>0.476139</td>\n",
       "      <td>0.460060</td>\n",
       "      <td>0.475659</td>\n",
       "      <td>197764000</td>\n",
       "    </tr>\n",
       "    <tr>\n",
       "      <th>2015-01-07</th>\n",
       "      <td>0.459340</td>\n",
       "      <td>0.467980</td>\n",
       "      <td>0.457900</td>\n",
       "      <td>0.463900</td>\n",
       "      <td>321808000</td>\n",
       "    </tr>\n",
       "    <tr>\n",
       "      <th>2015-01-08</th>\n",
       "      <td>0.476619</td>\n",
       "      <td>0.479499</td>\n",
       "      <td>0.464380</td>\n",
       "      <td>0.464620</td>\n",
       "      <td>283780000</td>\n",
       "    </tr>\n",
       "  </tbody>\n",
       "</table>\n",
       "</div>"
      ],
      "text/plain": [
       "Price          Close      High       Low      Open     Volume\n",
       "Ticker          NVDA      NVDA      NVDA      NVDA       NVDA\n",
       "Date                                                         \n",
       "2015-01-02  0.483099  0.486699  0.475419  0.483099  113680000\n",
       "2015-01-05  0.474939  0.484539  0.472780  0.483099  197952000\n",
       "2015-01-06  0.460540  0.476139  0.460060  0.475659  197764000\n",
       "2015-01-07  0.459340  0.467980  0.457900  0.463900  321808000\n",
       "2015-01-08  0.476619  0.479499  0.464380  0.464620  283780000"
      ]
     },
     "execution_count": 4,
     "metadata": {},
     "output_type": "execute_result"
    }
   ],
   "source": [
    "\n",
    "# download the data\n",
    "df_nvda = yf.download(ticker, start=start_date, end=end_date)\n",
    "df_nvda.head()"
   ]
  },
  {
   "cell_type": "code",
   "execution_count": null,
   "id": "4ce16015",
   "metadata": {},
   "outputs": [],
   "source": [
    "# save the data in a csv file\n",
    "df_nvda.to_csv('datasets/' + ticker + '_yfinance.csv')"
   ]
  },
  {
   "cell_type": "code",
   "execution_count": null,
   "id": "2385a9af",
   "metadata": {},
   "outputs": [],
   "source": [
    "\n",
    "# download the data from multiple tickers\n",
    "tickers = ['AAPL', 'MSFT', 'NVDA', 'GOOGL', 'AMZN']\n",
    "start_date = '2010-01-01'\n",
    "end_date = '2024-11-21'\n",
    "df = yf.download(tickers, start=start_date, end=end_date)\n",
    "df.head()\n",
    "# save the data in a csv file\n",
    "df.to_csv('datasets/' + '_'.join(tickers) + '_yfinance.csv')"
   ]
  },
  {
   "cell_type": "code",
   "execution_count": null,
   "id": "b8aee5fa",
   "metadata": {},
   "outputs": [],
   "source": [
    "\n",
    "df.info()"
   ]
  }
 ],
 "metadata": {
  "kernelspec": {
   "display_name": "Python 3",
   "language": "python",
   "name": "python3"
  },
  "language_info": {
   "codemirror_mode": {
    "name": "ipython",
    "version": 3
   },
   "file_extension": ".py",
   "mimetype": "text/x-python",
   "name": "python",
   "nbconvert_exporter": "python",
   "pygments_lexer": "ipython3",
   "version": "3.10.17"
  }
 },
 "nbformat": 4,
 "nbformat_minor": 5
}
